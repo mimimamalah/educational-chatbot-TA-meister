{
 "cells": [
  {
   "cell_type": "code",
   "execution_count": 31,
   "metadata": {},
   "outputs": [],
   "source": [
    "import xml.etree.ElementTree as ET\n",
    "from bs4 import BeautifulSoup\n",
    "from html import unescape\n",
    "\n",
    "# Note: the data can be downloaded from https://archive.org/download/stackexchange\n",
    "xml_file = 'cstheory.stackexchange.com/Posts.xml'"
   ]
  },
  {
   "cell_type": "markdown",
   "metadata": {},
   "source": [
    "### Class definitions"
   ]
  },
  {
   "cell_type": "code",
   "execution_count": 32,
   "metadata": {},
   "outputs": [],
   "source": [
    "class Question:\n",
    "    def __init__(self, post_id:int, accepted_answer_id:int, answer_count:int, score:int, title:str, body:str):\n",
    "        self.post_id = post_id\n",
    "        self.accepted_answer_id = accepted_answer_id\n",
    "        self.answer_count = answer_count\n",
    "        self.score = score\n",
    "        self.title = title\n",
    "        self.body = body\n",
    "        self.answers = []\n",
    "\n",
    "    def __str__(self):\n",
    "        return(\n",
    "            f\"#####################\\n\"\n",
    "            f\"Question {self.post_id}\\n\"\n",
    "            f\"#####################\\n\"\n",
    "            f\"accepted_answer_id: {self.accepted_answer_id}, answer_count: {self.answer_count}, found_answers: {len(self.answers)} score: {self.score}\\n\\n\"\n",
    "            f\"TITLE:\\n######\\n{self.title}\\n\"\n",
    "            f\"BODY:\\n#####\\n{self.body}\\n\"\n",
    "            + f\"\\n\".join(str(x) for x in self.answers)\n",
    "        )\n",
    "    \n",
    "\n",
    "class Answer:\n",
    "    def __init__(self, post_id:int, parent_id:int, score:int, body:int):\n",
    "        self.post_id = post_id\n",
    "        self.parent_id = parent_id\n",
    "        self.score = score\n",
    "        self.body = body\n",
    "\n",
    "    def __str__(self):\n",
    "        return (\n",
    "            f\"Answer {self.post_id}\\n\"\n",
    "            f\"#############\\n\"\n",
    "            f\"post_id: {self.post_id}, parent_id: {self.parent_id}, score: {self.score}\\n\\n\"\n",
    "            f\"{self.body}\"\n",
    "        )\n",
    "\n",
    "    "
   ]
  },
  {
   "cell_type": "markdown",
   "metadata": {},
   "source": [
    "### Parse xml file and create dictionary of questions"
   ]
  },
  {
   "cell_type": "code",
   "execution_count": 33,
   "metadata": {},
   "outputs": [],
   "source": [
    "# Dictionary to store the questions. The key is the post id and the value is the question associated with this id\n",
    "questions: dict[int, Question] = {}\n",
    "\n",
    "# Iterate on all the rows of the xml file\n",
    "tree = ET.parse('cstheory.stackexchange.com/Posts.xml')\n",
    "root = tree.getroot()\n",
    "for child in root:\n",
    "    post = child.attrib\n",
    "\n",
    "    # If the post is a question\n",
    "    if post['PostTypeId'] == '1': \n",
    "        question = Question(post_id= int(post['Id']), \n",
    "                            accepted_answer_id= int(post.get('AcceptedAnswerId', '-1')), \n",
    "                            answer_count= int(post['AnswerCount']), \n",
    "                            score= int(post['Score']), \n",
    "                            title= post['Title'],\n",
    "                            body = BeautifulSoup(unescape(post['Body']), 'html.parser').get_text()\n",
    "                            )\n",
    "        \n",
    "        assert(question.post_id not in questions)\n",
    "        questions[question.post_id] = question\n",
    "\n",
    "    # If the post is an answer\n",
    "    elif post['PostTypeId'] == '2':\n",
    "        answer = Answer(post_id= int(post['Id']),\n",
    "                        parent_id= int(post['ParentId']),\n",
    "                        score= int(post['Score']),\n",
    "                        body= BeautifulSoup(unescape(post['Body']), 'html.parser').get_text()\n",
    "                        )\n",
    "        \n",
    "        assert(answer.parent_id in questions)\n",
    "        questions[answer.parent_id].answers.append(answer)\n",
    "    "
   ]
  },
  {
   "cell_type": "code",
   "execution_count": 34,
   "metadata": {},
   "outputs": [
    {
     "name": "stdout",
     "output_type": "stream",
     "text": [
      "Warning: accepted_answer_id is not a valid answer id: q_id: 5103, accepted_answer_id: 5105, answer_count: 0, found_answers: []\n",
      "Warning: answer_count does not match the number of answers found: q_id: 27896, answer_count: 1, found_answers: 0\n",
      "Warning: answer_count does not match the number of answers found: q_id: 44078, answer_count: 3, found_answers: 2\n",
      "Warning: answer_count does not match the number of answers found: q_id: 51945, answer_count: 2, found_answers: 1\n",
      "Warning: answer_count does not match the number of answers found: q_id: 53833, answer_count: 1, found_answers: 0\n",
      "Warning: accepted_answer_id is not a valid answer id: q_id: 53833, accepted_answer_id: 54126, answer_count: 1, found_answers: []\n",
      "Warning: answer_count does not match the number of answers found: q_id: 53995, answer_count: 11, found_answers: 10\n",
      "Warning: answer_count does not match the number of answers found: q_id: 54114, answer_count: 1, found_answers: 0\n",
      "Warning: accepted_answer_id is not a valid answer id: q_id: 54114, accepted_answer_id: 54137, answer_count: 1, found_answers: []\n"
     ]
    }
   ],
   "source": [
    "def data_check(questions: dict[int, Question]):\n",
    "    for q_id, question in questions.items():\n",
    "        assert(question.post_id == q_id)\n",
    "        assert(question.title != '')\n",
    "        assert(question.body != '')\n",
    "        for answer in question.answers:\n",
    "            assert(answer.parent_id == q_id)\n",
    "            assert(answer.body != '')\n",
    "\n",
    "        if question.answer_count != len(question.answers):\n",
    "            print(\n",
    "                f\"Warning: answer_count does not match the number of answers found: \"\n",
    "                f\"q_id: {q_id}, answer_count: {question.answer_count}, found_answers: {len(question.answers)}\"\n",
    "                )\n",
    "\n",
    "        if question.accepted_answer_id not in [-1] + [a.post_id for a in question.answers]:\n",
    "            print(\n",
    "                f\"Warning: accepted_answer_id is not a valid answer id: \"\n",
    "                f\"q_id: {q_id}, accepted_answer_id: {question.accepted_answer_id}, \"\n",
    "                f\"answer_count: {question.answer_count}, found_answers: {[a.post_id for a in question.answers]}\")\n",
    "        \n",
    "data_check(questions)"
   ]
  },
  {
   "cell_type": "code",
   "execution_count": 35,
   "metadata": {},
   "outputs": [],
   "source": [
    "def filter_valid_questions(questions: dict[int, Question]) -> dict[int, Question]:\n",
    "    def is_valid_answer(answer: Answer) -> bool:\n",
    "        return answer.body != '' and answer.post_id is not None\n",
    "\n",
    "    def is_valid_question(question: Question) -> bool:\n",
    "        valid_answers = [answer for answer in question.answers if is_valid_answer(answer)]\n",
    "        if len(valid_answers) < 2:\n",
    "            return False\n",
    "        question.answers = valid_answers\n",
    "        return True\n",
    "\n",
    "    return {q_id: question for q_id, question in questions.items() if is_valid_question(question)}\n",
    "\n",
    "# Update the questions dictionary\n",
    "questions = filter_valid_questions(questions)"
   ]
  },
  {
   "cell_type": "markdown",
   "metadata": {},
   "source": [
    "### Generate DPO preference dataset"
   ]
  },
  {
   "cell_type": "code",
   "execution_count": 36,
   "metadata": {},
   "outputs": [
    {
     "name": "stdout",
     "output_type": "stream",
     "text": [
      "Data successfully written to dpo_preference.jsonl\n"
     ]
    }
   ],
   "source": [
    "# We want to generate a file named dpo_preference.jsonl\n",
    "# one line should look like this: {\"prompt\": \"...\", \"chosen\": \"...\", \"rejected\": \"...\"}\n",
    "# where prompt is the title and the question concatenated\n",
    "# chosen is the answer that has the highest score\n",
    "# and rejected is the answer that has the lowest score\n",
    "\n",
    "import json\n",
    "import os\n",
    "\n",
    "output_file = 'dpo_preference.jsonl'\n",
    "if os.path.exists(output_file):\n",
    "    os.remove(output_file)\n",
    "\n",
    "with open(output_file, 'w') as f:\n",
    "    for q_id, question in questions.items():\n",
    "        if len(question.answers) == 0:\n",
    "            continue\n",
    "\n",
    "        chosen = max(question.answers, key=lambda x: x.score)\n",
    "        # once we have the chosen answer, we remove it from the list of answers.\n",
    "        # This is for the case where all the answers have the same score. (Maybe we should discard the question in this case?)\n",
    "        question.answers.remove(chosen)\n",
    "        rejected = min(question.answers, key=lambda x: x.score)\n",
    "\n",
    "        f.write(\n",
    "            json.dumps({\n",
    "                \"prompt\": question.title + ' ' + question.body,\n",
    "                \"chosen\": chosen.body,\n",
    "                \"rejected\": rejected.body\n",
    "            }) + '\\n'\n",
    "        )\n",
    "\n",
    "print(f\"Data successfully written to {output_file}\")"
   ]
  },
  {
   "cell_type": "code",
   "execution_count": 37,
   "metadata": {},
   "outputs": [],
   "source": [
    "def check_dpo_preference_data(output_file: str):\n",
    "    with open(output_file, 'r') as f:\n",
    "        for line in f:\n",
    "            data = json.loads(line)\n",
    "            assert(data['prompt'] != '')\n",
    "            assert(data['chosen'] != '')\n",
    "            assert(data['rejected'] != '')\n",
    "\n",
    "            assert(data['chosen'] != data['rejected'])\n",
    "\n",
    "check_dpo_preference_data(output_file)"
   ]
  }
 ],
 "metadata": {
  "kernelspec": {
   "display_name": "modern_nlp",
   "language": "python",
   "name": "python3"
  },
  "language_info": {
   "codemirror_mode": {
    "name": "ipython",
    "version": 3
   },
   "file_extension": ".py",
   "mimetype": "text/x-python",
   "name": "python",
   "nbconvert_exporter": "python",
   "pygments_lexer": "ipython3",
   "version": "3.9.7"
  }
 },
 "nbformat": 4,
 "nbformat_minor": 2
}
