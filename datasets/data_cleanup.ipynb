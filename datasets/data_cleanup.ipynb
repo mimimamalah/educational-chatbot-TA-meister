{
 "cells": [
  {
   "cell_type": "code",
   "execution_count": null,
   "metadata": {},
   "outputs": [],
   "source": [
    "import xml.etree.ElementTree as ET\n",
    "from bs4 import BeautifulSoup\n",
    "from html import unescape\n",
    "\n",
    "# Note: the data can be downloaded from https://archive.org/download/stackexchange\n",
    "xml_file = 'cstheory.stackexchange.com/Posts.xml'"
   ]
  },
  {
   "cell_type": "markdown",
   "metadata": {},
   "source": [
    "### Class definitions"
   ]
  },
  {
   "cell_type": "code",
   "execution_count": null,
   "metadata": {},
   "outputs": [],
   "source": [
    "class Question:\n",
    "    def __init__(self, post_id:int, accepted_answer_id:int, answer_count:int, score:int, title:str, body:str):\n",
    "        self.post_id = post_id\n",
    "        self.accepted_answer_id = accepted_answer_id\n",
    "        self.answer_count = answer_count\n",
    "        self.score = score\n",
    "        self.title = title\n",
    "        self.body = body\n",
    "        self.answers = []\n",
    "\n",
    "    def __str__(self):\n",
    "        return(\n",
    "            f\"#####################\\n\"\n",
    "            f\"Question {self.post_id}\\n\"\n",
    "            f\"#####################\\n\"\n",
    "            f\"accepted_answer_id: {self.accepted_answer_id}, answer_count: {self.answer_count}, found_answers: {len(self.answers)} score: {self.score}\\n\\n\"\n",
    "            f\"TITLE:\\n######\\n{self.title}\\n\"\n",
    "            f\"BODY:\\n#####\\n{self.body}\\n\"\n",
    "            + f\"\\n\".join(str(x) for x in self.answers)\n",
    "        )\n",
    "    \n",
    "\n",
    "class Answer:\n",
    "    def __init__(self, post_id:int, parent_id:int, score:int, body:int):\n",
    "        self.post_id = post_id\n",
    "        self.parent_id = parent_id\n",
    "        self.score = score\n",
    "        self.body = body\n",
    "\n",
    "    def __str__(self):\n",
    "        return (\n",
    "            f\"Answer {self.post_id}\\n\"\n",
    "            f\"#############\\n\"\n",
    "            f\"post_id: {self.post_id}, parent_id: {self.parent_id}, score: {self.score}\\n\\n\"\n",
    "            f\"{self.body}\"\n",
    "        )\n",
    "\n",
    "    "
   ]
  },
  {
   "cell_type": "markdown",
   "metadata": {},
   "source": [
    "### Parse xml file and create dictionary of questions"
   ]
  },
  {
   "cell_type": "code",
   "execution_count": null,
   "metadata": {},
   "outputs": [],
   "source": [
    "# Dictionary to store the questions. The key is the post id and the value is the question associated with this id\n",
    "questions: dict[int, Question] = {}\n",
    "\n",
    "# Iterate on all the rows of the xml file\n",
    "tree = ET.parse('cstheory.stackexchange.com/Posts.xml')\n",
    "root = tree.getroot()\n",
    "for child in root:\n",
    "    post = child.attrib\n",
    "\n",
    "    # If the post is a question\n",
    "    if post['PostTypeId'] == '1': \n",
    "        question = Question(post_id= int(post['Id']), \n",
    "                            accepted_answer_id= int(post.get('AcceptedAnswerId', '-1')), \n",
    "                            answer_count= int(post['AnswerCount']), \n",
    "                            score= int(post['Score']), \n",
    "                            title= post['Title'],\n",
    "                            body = BeautifulSoup(unescape(post['Body']), 'html.parser').get_text()\n",
    "                            )\n",
    "        \n",
    "        assert(question.post_id not in questions)\n",
    "        questions[question.post_id] = question\n",
    "\n",
    "    # If the post is an answer\n",
    "    elif post['PostTypeId'] == '2':\n",
    "        answer = Answer(post_id= int(post['Id']),\n",
    "                        parent_id= int(post['ParentId']),\n",
    "                        score= int(post['Score']),\n",
    "                        body= BeautifulSoup(unescape(post['Body']), 'html.parser').get_text()\n",
    "                        )\n",
    "        \n",
    "        assert(answer.parent_id in questions)\n",
    "        questions[answer.parent_id].answers.append(answer)\n",
    "    "
   ]
  },
  {
   "cell_type": "code",
   "execution_count": null,
   "metadata": {},
   "outputs": [],
   "source": [
    "def data_check(questions: dict[int, Question]):\n",
    "    for q_id, question in questions.items():\n",
    "        assert(question.post_id == q_id)\n",
    "        assert(question.title != '')\n",
    "        assert(question.body != '')\n",
    "        for answer in question.answers:\n",
    "            assert(answer.parent_id == q_id)\n",
    "            assert(answer.body != '')\n",
    "\n",
    "        if question.answer_count != len(question.answers):\n",
    "            print(\n",
    "                f\"Warning: answer_count does not match the number of answers found: \"\n",
    "                f\"q_id: {q_id}, answer_count: {question.answer_count}, found_answers: {len(question.answers)}\"\n",
    "                )\n",
    "\n",
    "        if question.accepted_answer_id not in [-1] + [a.post_id for a in question.answers]:\n",
    "            print(\n",
    "                f\"Warning: accepted_answer_id is not a valid answer id: \"\n",
    "                f\"q_id: {q_id}, accepted_answer_id: {question.accepted_answer_id}, \"\n",
    "                f\"answer_count: {question.answer_count}, found_answers: {[a.post_id for a in question.answers]}\")\n",
    "        \n",
    "\n",
    "data_check(questions)"
   ]
  }
 ],
 "metadata": {
  "kernelspec": {
   "display_name": "modern_nlp",
   "language": "python",
   "name": "python3"
  },
  "language_info": {
   "codemirror_mode": {
    "name": "ipython",
    "version": 3
   },
   "file_extension": ".py",
   "mimetype": "text/x-python",
   "name": "python",
   "nbconvert_exporter": "python",
   "pygments_lexer": "ipython3",
   "version": "3.10.13"
  }
 },
 "nbformat": 4,
 "nbformat_minor": 2
}
