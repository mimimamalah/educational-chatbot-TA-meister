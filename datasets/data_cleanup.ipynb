{
 "cells": [
  {
   "cell_type": "code",
   "execution_count": null,
   "metadata": {},
   "outputs": [],
   "source": [
    "%load_ext autoreload\n",
    "%autoreload 2"
   ]
  },
  {
   "cell_type": "code",
   "execution_count": null,
   "metadata": {},
   "outputs": [],
   "source": [
    "import data_cleanup\n",
    "\n",
    "# Note: the data can be downloaded from https://archive.org/download/stackexchange\n",
    "input_file = 'cstheory.stackexchange.com/Posts.xml'\n",
    "output_file = 'cstheory.jsonl'"
   ]
  },
  {
   "cell_type": "code",
   "execution_count": null,
   "metadata": {},
   "outputs": [],
   "source": [
    "questions = data_cleanup.read_xml(input_file)\n",
    "questions = data_cleanup.filter_questions(questions)\n",
    "data_cleanup.validate_data(questions)\n",
    "data_cleanup.write_jsonl(questions, output_file)"
   ]
  }
 ],
 "metadata": {
  "kernelspec": {
   "display_name": "modern_nlp",
   "language": "python",
   "name": "python3"
  },
  "language_info": {
   "codemirror_mode": {
    "name": "ipython",
    "version": 3
   },
   "file_extension": ".py",
   "mimetype": "text/x-python",
   "name": "python",
   "nbconvert_exporter": "python",
   "pygments_lexer": "ipython3",
   "version": "3.10.13"
  }
 },
 "nbformat": 4,
 "nbformat_minor": 2
}
