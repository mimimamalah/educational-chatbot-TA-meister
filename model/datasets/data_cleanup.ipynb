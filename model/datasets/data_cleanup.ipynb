{
 "cells": [
  {
   "cell_type": "code",
   "execution_count": 1,
   "metadata": {},
   "outputs": [],
   "source": [
    "%load_ext autoreload\n",
    "%autoreload 2"
   ]
  },
  {
   "cell_type": "markdown",
   "metadata": {},
   "source": [
    "## Run the stack overflow data processing"
   ]
  },
  {
   "cell_type": "code",
   "execution_count": null,
   "metadata": {},
   "outputs": [],
   "source": [
    "import data_cleanup_stack\n",
    "\n",
    "# Note: the data can be downloaded from https://archive.org/download/stackexchange\n",
    "input_file = 'cstheory.stackexchange.com/Posts.xml'\n",
    "output_file = 'cstheory.jsonl'"
   ]
  },
  {
   "cell_type": "code",
   "execution_count": null,
   "metadata": {},
   "outputs": [],
   "source": [
    "questions = data_cleanup_stack.read_xml(input_file)\n",
    "questions = data_cleanup_stack.filter_questions(questions)\n",
    "data_cleanup_stack.validate_data(questions)\n",
    "data_cleanup_stack.write_jsonl(questions, output_file)"
   ]
  },
  {
   "cell_type": "markdown",
   "metadata": {},
   "source": [
    "## Run the M1 data processing"
   ]
  },
  {
   "cell_type": "code",
   "execution_count": 2,
   "metadata": {},
   "outputs": [],
   "source": [
    "# Import utils.py from parent directory\n",
    "import os\n",
    "import sys\n",
    "module_path = os.path.abspath(os.path.join('..'))\n",
    "if module_path not in sys.path:\n",
    "    sys.path.append(module_path)\n",
    "\n",
    "import utils\n",
    "import data_cleanup_m1\n",
    "\n",
    "input_file = 'M1_preference_data_15052024.json'\n",
    "output_file = 'dpo_m1.jsonl'"
   ]
  },
  {
   "cell_type": "code",
   "execution_count": 3,
   "metadata": {},
   "outputs": [],
   "source": [
    "input_data = utils.read_json(input_file)\n",
    "output_data = data_cleanup_m1.generate_preference_pairs(input_data)\n",
    "utils.write_jsonl(output_data, output_file)"
   ]
  }
 ],
 "metadata": {
  "kernelspec": {
   "display_name": "modern_nlp",
   "language": "python",
   "name": "python3"
  },
  "language_info": {
   "codemirror_mode": {
    "name": "ipython",
    "version": 3
   },
   "file_extension": ".py",
   "mimetype": "text/x-python",
   "name": "python",
   "nbconvert_exporter": "python",
   "pygments_lexer": "ipython3",
   "version": "3.9.10"
  }
 },
 "nbformat": 4,
 "nbformat_minor": 2
}
