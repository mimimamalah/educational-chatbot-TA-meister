{
 "cells": [
  {
   "cell_type": "code",
   "execution_count": 1,
   "metadata": {},
   "outputs": [],
   "source": [
    "from datasets import load_dataset\n",
    "import pandas as pd\n",
    "from langchain_text_splitters import RecursiveCharacterTextSplitter\n",
    "\n",
    "import model.utils as utils\n",
    "import os\n",
    "import glob"
   ]
  },
  {
   "cell_type": "code",
   "execution_count": 3,
   "metadata": {},
   "outputs": [],
   "source": [
    "def create_context(dataset, qst_col, answ_col, max_chars=800) -> pd.DataFrame:\n",
    "    dataset_df = pd.DataFrame(dataset)\n",
    "    # Concatenate question and answer into one string with a space in between\n",
    "    combined = dataset_df[qst_col] + \" \" + dataset_df[answ_col]\n",
    "\n",
    "    # Create a mask where the length of the combined string is less than max_chars\n",
    "    mask = combined.str.len() < max_chars\n",
    "\n",
    "    # only keep the rows that have less than max_chars\n",
    "    dataset_df = combined[mask]\n",
    "    dataset_df = dataset_df.reset_index(drop=True)\n",
    "\n",
    "    # return the list\n",
    "    return dataset_df.tolist()\n"
   ]
  },
  {
   "cell_type": "code",
   "execution_count": 5,
   "metadata": {},
   "outputs": [
    {
     "data": {
      "text/plain": [
       "0         Gracie and Joe are choosing numbers on the com...\n",
       "1         The treasurer of a football team must buy equi...\n",
       "2         Convert $10101_3$ to a base 10 integer. $10101...\n",
       "3         Sue works in a factory and every 30 minutes, a...\n",
       "4         Evan’s dog weighs 63 pounds; it weighs 7 times...\n",
       "                                ...                        \n",
       "274503    For a given positive integer $n > 2^3$, what i...\n",
       "274504    Yesterday, David and William were invited to a...\n",
       "274505    Suppose $\\sin N = \\frac{2}{3}$ in the diagram ...\n",
       "274506    Jeff orders a Halloween costume.  He has to pu...\n",
       "274507    The average age of the 10 females in a choir i...\n",
       "Length: 274508, dtype: object"
      ]
     },
     "execution_count": 5,
     "metadata": {},
     "output_type": "execute_result"
    }
   ],
   "source": [
    "# Load the metamath dataset\n",
    "metamath_dataset = load_dataset(\"meta-math/MetaMathQA\")\n",
    "metamath_database = create_context(metamath_dataset[\"train\"], \"original_question\", \"response\")\n",
    "metamath_database\n"
   ]
  },
  {
   "cell_type": "code",
   "execution_count": 9,
   "metadata": {},
   "outputs": [
    {
     "name": "stdout",
     "output_type": "stream",
     "text": [
      " Memory usage of the metamath database in Mo:  162.230185\n"
     ]
    }
   ],
   "source": [
    "# what is the memory usage of the metamath database\n",
    "metamath_database = pd.DataFrame(metamath_database)\n",
    "metamath_database.memory_usage(deep=True).sum()\n",
    "print(\" Memory usage of the metamath database in Mo: \", metamath_database.memory_usage(deep=True).sum() / 10**6)"
   ]
  },
  {
   "cell_type": "code",
   "execution_count": 12,
   "metadata": {},
   "outputs": [
    {
     "name": "stderr",
     "output_type": "stream",
     "text": [
      "Generating train split: 100%|██████████| 20000/20000 [2:50:21<00:00,  1.96 examples/s]     \n"
     ]
    },
    {
     "name": "stdout",
     "output_type": "stream",
     "text": [
      "Length of the physics database:  446\n",
      " Memory usage of the physics database in Mo:  0.470144\n"
     ]
    }
   ],
   "source": [
    "# Load camel-ai/physics\n",
    "physics_dataset = load_dataset(\"camel-ai/physics\")\n",
    "physics_database = create_context(physics_dataset[\"train\"], \"message_1\", \"message_2\")\n",
    "# print length\n",
    "print(\"Length of the physics database: \", len(physics_database))\n",
    "# print memory usage in Mo\n",
    "physics_database = pd.DataFrame(physics_database)\n",
    "print(\" Memory usage of the physics database in Mo: \", physics_database.memory_usage(deep=True).sum() / 10**6)"
   ]
  },
  {
   "cell_type": "code",
   "execution_count": 10,
   "metadata": {},
   "outputs": [
    {
     "name": "stdout",
     "output_type": "stream",
     "text": [
      " Memory usage of the python database in Mo:  12.433614\n"
     ]
    }
   ],
   "source": [
    "# Load Programming-Language/codeagent-python\n",
    "python_dataset = load_dataset(\"Programming-Language/codeagent-python\")\n",
    "python_database = create_context(python_dataset[\"train\"], \"prompt\", \"response\")\n",
    "python_database\n",
    "# print memory usage in Mo\n",
    "python_database = pd.DataFrame(python_database)\n",
    "print(\" Memory usage of the python database in Mo: \", python_database.memory_usage(deep=True).sum() / 10**6)"
   ]
  },
  {
   "cell_type": "code",
   "execution_count": 11,
   "metadata": {},
   "outputs": [
    {
     "name": "stdout",
     "output_type": "stream",
     "text": [
      "Length of the stem database:  354319\n",
      " Memory usage of the stem database in Mo:  232.720332\n"
     ]
    }
   ],
   "source": [
    "# Looad elfonthefly/STEM_DPO\n",
    "stem_dataset = load_dataset(\"elfonthefly/STEM_DPO\")\n",
    "stem_database = create_context(stem_dataset[\"train\"], \"prompt\", \"chosen\")\n",
    "# print length\n",
    "print(\"Length of the stem database: \", len(stem_database))\n",
    "# print memory usage in Mo\n",
    "stem_database = pd.DataFrame(stem_database)\n",
    "print(\" Memory usage of the stem database in Mo: \", stem_database.memory_usage(deep=True).sum() / 10**6)"
   ]
  }
 ],
 "metadata": {
  "kernelspec": {
   "display_name": "llm",
   "language": "python",
   "name": "python3"
  },
  "language_info": {
   "codemirror_mode": {
    "name": "ipython",
    "version": 3
   },
   "file_extension": ".py",
   "mimetype": "text/x-python",
   "name": "python",
   "nbconvert_exporter": "python",
   "pygments_lexer": "ipython3",
   "version": "3.9.7"
  }
 },
 "nbformat": 4,
 "nbformat_minor": 2
}
